{
 "cells": [
  {
   "cell_type": "code",
   "execution_count": 1,
   "metadata": {},
   "outputs": [
    {
     "name": "stderr",
     "output_type": "stream",
     "text": [
      "/home/mandark/.conda/envs/tf1.7/lib/python3.6/site-packages/h5py/__init__.py:36: FutureWarning: Conversion of the second argument of issubdtype from `float` to `np.floating` is deprecated. In future, it will be treated as `np.float64 == np.dtype(float).type`.\n",
      "  from ._conv import register_converters as _register_converters\n",
      "Using TensorFlow backend.\n"
     ]
    }
   ],
   "source": [
    "import datetime\n",
    "import os\n",
    "\n",
    "import numpy as np\n",
    "import pandas as pd\n",
    "from matplotlib import pyplot as plt\n",
    "from skimage.color import gray2rgb\n",
    "from skimage.transform import resize\n",
    "from keras.applications.vgg16 import VGG16\n",
    "from keras.callbacks import (EarlyStopping, ModelCheckpoint,\n",
    "                             TensorBoard)\n",
    "from keras.layers import Dense, Flatten, Input\n",
    "from keras.models import Model\n",
    "from keras.optimizers import Adam, SGD\n",
    "from keras.preprocessing.image import ImageDataGenerator\n",
    "from keras.utils import Sequence, to_categorical"
   ]
  },
  {
   "cell_type": "code",
   "execution_count": 2,
   "metadata": {},
   "outputs": [],
   "source": [
    "def load(mode=0):\n",
    "    file = ['fer2013/training.csv',\n",
    "            'fer2013/publictest.csv',\n",
    "            'fer2013/privatetest.csv']\n",
    "    data = pd.read_csv(file[mode])\n",
    "\n",
    "    pixels = data['pixels'].apply(\n",
    "        lambda img: np.fromstring(img, sep=' '))\n",
    "\n",
    "    X = np.vstack(pixels.values)\n",
    "    X = X.astype('float32')\n",
    "\n",
    "    X /= 255\n",
    "\n",
    "    X = gray2rgb(X)\n",
    "    X = X.reshape(-1, 48, 48, 3)\n",
    "\n",
    "    y = data['emotion'].values\n",
    "    y = y.astype(np.int)\n",
    "\n",
    "    return X, y"
   ]
  },
  {
   "cell_type": "code",
   "execution_count": 17,
   "metadata": {},
   "outputs": [],
   "source": [
    "\n",
    "def class_func(value, good_class):\n",
    "    if value == good_class:\n",
    "        return 1\n",
    "    else:\n",
    "        return 0\n"
   ]
  },
  {
   "cell_type": "code",
   "execution_count": 23,
   "metadata": {},
   "outputs": [],
   "source": [
    "\n",
    "X, y = load()\n",
    "X_test, y_test = load(mode=1)\n",
    "\n",
    "vfunc = np.vectorize(class_func)\n",
    "\n"
   ]
  },
  {
   "cell_type": "code",
   "execution_count": 24,
   "metadata": {},
   "outputs": [],
   "source": [
    "s = sum([1 for x in y if x == 0])"
   ]
  },
  {
   "cell_type": "code",
   "execution_count": 25,
   "metadata": {},
   "outputs": [],
   "source": [
    "y_new = vfunc(y, 0)\n"
   ]
  },
  {
   "cell_type": "code",
   "execution_count": 27,
   "metadata": {},
   "outputs": [
    {
     "name": "stdout",
     "output_type": "stream",
     "text": [
      "[1 1 0 ... 0 1 0]\n",
      "3995\n",
      "3995\n",
      "28709\n"
     ]
    }
   ],
   "source": [
    "print(y_new)\n",
    "print(sum(y_new))\n",
    "print(s)\n",
    "print(len(y))"
   ]
  },
  {
   "cell_type": "code",
   "execution_count": 33,
   "metadata": {},
   "outputs": [
    {
     "name": "stdout",
     "output_type": "stream",
     "text": [
      "[0.58082463 3.5931164 ]\n"
     ]
    }
   ],
   "source": [
    "from sklearn.utils import class_weight\n",
    "class_weight = class_weight.compute_class_weight('balanced',np.unique(y_new), y_new)\n",
    "print(class_weight)"
   ]
  }
 ],
 "metadata": {
  "kernelspec": {
   "display_name": "Python 3",
   "language": "python",
   "name": "python3"
  },
  "language_info": {
   "codemirror_mode": {
    "name": "ipython",
    "version": 3
   },
   "file_extension": ".py",
   "mimetype": "text/x-python",
   "name": "python",
   "nbconvert_exporter": "python",
   "pygments_lexer": "ipython3",
   "version": "3.6.4"
  }
 },
 "nbformat": 4,
 "nbformat_minor": 2
}
