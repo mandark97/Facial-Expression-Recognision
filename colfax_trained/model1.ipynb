{
 "cells": [
  {
   "cell_type": "code",
   "execution_count": 1,
   "metadata": {},
   "outputs": [],
   "source": [
    "import cv2\n",
    "import numpy as np\n",
    "import pandas as pd\n",
    "from matplotlib import pyplot as plt\n",
    "from tensorflow.python.keras._impl.keras.layers import Input\n",
    "from tensorflow.python.keras.callbacks import EarlyStopping, ModelCheckpoint, TensorBoard\n",
    "from tensorflow.python.keras.layers import (Activation, Conv2D, Dense, Dropout, Flatten,\n",
    "                                            MaxPool2D)\n",
    "from tensorflow.python.keras.models import Sequential\n",
    "from tensorflow.python.keras.utils import to_categorical\n",
    "%matplotlib inline\n",
    "import datetime"
   ]
  },
  {
   "cell_type": "code",
   "execution_count": 2,
   "metadata": {},
   "outputs": [
    {
     "name": "stdout",
     "output_type": "stream",
     "text": [
      "checkpoint_2018-03-21_07:17:58.797842\n"
     ]
    }
   ],
   "source": [
    "BATCH_SIZE = 256\n",
    "EPOCHS = 27\n",
    "now = str(datetime.datetime.now())\n",
    "CHECKPOINT_NAME = '_'.join(('checkpoint ' + now).split(' '))\n",
    "print(CHECKPOINT_NAME)\n"
   ]
  },
  {
   "cell_type": "markdown",
   "metadata": {},
   "source": [
    "Read data and add it to a csv"
   ]
  },
  {
   "cell_type": "code",
   "execution_count": 3,
   "metadata": {},
   "outputs": [],
   "source": [
    "def load_data(test=False, mode=0, rgb=False):\n",
    "    files = ['fer2013/training.csv',\n",
    "             'fer2013/publictest.csv',\n",
    "             'fer2013/privatetest.csv']\n",
    "    \n",
    "    data = pd.read_csv(files[mode])\n",
    "    \n",
    "    data['pixels'] = data['pixels'].apply(lambda img: np.fromstring(img, sep=' '))\n",
    "    X = np.vstack(data['pixels'].values)\n",
    "    # #normalize data\n",
    "    X -= np.mean(X, axis=0)\n",
    "    X /= np.std(X, axis=0)\n",
    "    if rgb: # transform data cu rgb if needed\n",
    "        X = cv2.cvtColor(data['pixels'], cv2.COLOR_GRAY2RGB)\n",
    "        X = X.reshape(-1, 48, 48, 3)\n",
    "    else:\n",
    "        X = X.reshape(-1, 48, 48, 1)\n",
    "\n",
    "    print(X.shape)\n",
    "    \n",
    "    if not test:\n",
    "        y = data['emotion'].values\n",
    "        y = y.astype(np.int)\n",
    "        y = to_categorical(y)\n",
    "    else:\n",
    "        y = None\n",
    "\n",
    "    return X, y\n"
   ]
  },
  {
   "cell_type": "code",
   "execution_count": 4,
   "metadata": {},
   "outputs": [],
   "source": [
    "checkpointer = ModelCheckpoint(filepath='checkpoints/{0}.h5'.format(CHECKPOINT_NAME), verbose=0, save_best_only=True)\n",
    "early_stop = EarlyStopping(monitor='val_loss', min_delta=0, patience=50, verbose=0, mode='auto')\n",
    "tensorboard = TensorBoard(log_dir='./logs', histogram_freq=0, batch_size=BATCH_SIZE, write_images=True)\n",
    "\n",
    "model_callbacks = [checkpointer, early_stop, tensorboard]"
   ]
  },
  {
   "cell_type": "code",
   "execution_count": 5,
   "metadata": {},
   "outputs": [
    {
     "name": "stdout",
     "output_type": "stream",
     "text": [
      "_________________________________________________________________\n",
      "Layer (type)                 Output Shape              Param #   \n",
      "=================================================================\n",
      "conv2d_1 (Conv2D)            (None, 46, 46, 64)        640       \n",
      "_________________________________________________________________\n",
      "conv2d_2 (Conv2D)            (None, 44, 44, 64)        36928     \n",
      "_________________________________________________________________\n",
      "conv2d_3 (Conv2D)            (None, 42, 42, 64)        36928     \n",
      "_________________________________________________________________\n",
      "max_pooling2d_1 (MaxPooling2 (None, 21, 21, 64)        0         \n",
      "_________________________________________________________________\n",
      "conv2d_4 (Conv2D)            (None, 19, 19, 32)        18464     \n",
      "_________________________________________________________________\n",
      "conv2d_5 (Conv2D)            (None, 17, 17, 32)        9248      \n",
      "_________________________________________________________________\n",
      "conv2d_6 (Conv2D)            (None, 15, 15, 32)        9248      \n",
      "_________________________________________________________________\n",
      "max_pooling2d_2 (MaxPooling2 (None, 7, 7, 32)          0         \n",
      "_________________________________________________________________\n",
      "dropout_1 (Dropout)          (None, 7, 7, 32)          0         \n",
      "_________________________________________________________________\n",
      "flatten_1 (Flatten)          (None, 1568)              0         \n",
      "_________________________________________________________________\n",
      "dense_1 (Dense)              (None, 128)               200832    \n",
      "_________________________________________________________________\n",
      "dense_2 (Dense)              (None, 64)                8256      \n",
      "_________________________________________________________________\n",
      "dropout_2 (Dropout)          (None, 64)                0         \n",
      "_________________________________________________________________\n",
      "dense_3 (Dense)              (None, 7)                 455       \n",
      "_________________________________________________________________\n",
      "activation_1 (Activation)    (None, 7)                 0         \n",
      "=================================================================\n",
      "Total params: 320,999\n",
      "Trainable params: 320,999\n",
      "Non-trainable params: 0\n",
      "_________________________________________________________________\n"
     ]
    }
   ],
   "source": [
    "model = Sequential()\n",
    "model.add(Conv2D(64, 3, input_shape=(48, 48, 1), activation='relu'))\n",
    "model.add(Conv2D(64, 3, activation='relu'))\n",
    "model.add(Conv2D(64, 3, activation='relu'))\n",
    "model.add(MaxPool2D(pool_size=(2, 2)))\n",
    "\n",
    "model.add(Conv2D(32, 3, activation='relu'))\n",
    "model.add(Conv2D(32, 3, activation='relu'))\n",
    "model.add(Conv2D(32, 3, activation='relu'))\n",
    "model.add(MaxPool2D(pool_size=(2, 2)))\n",
    "model.add(Dropout(0.5))\n",
    "\n",
    "model.add(Flatten())\n",
    "model.add(Dense(128, activation='relu'))\n",
    "model.add(Dense(64, activation='relu'))\n",
    "model.add(Dropout(0.5))\n",
    "\n",
    "model.add(Dense(7))\n",
    "model.add(Activation('softmax'))\n",
    "\n",
    "model.summary()\n",
    "\n",
    "model.compile(optimizer='adam', loss='categorical_crossentropy', metrics=['accuracy'])\n"
   ]
  },
  {
   "cell_type": "code",
   "execution_count": 6,
   "metadata": {},
   "outputs": [
    {
     "name": "stdout",
     "output_type": "stream",
     "text": [
      "(28709, 48, 48, 1)\n",
      "(3589, 48, 48, 1)\n",
      "Train on 28709 samples, validate on 3589 samples\n",
      "Epoch 1/27\n",
      "28709/28709 [==============================] - 116s - loss: 1.7676 - acc: 0.2777 - val_loss: 1.5964 - val_acc: 0.3859\n",
      "Epoch 2/27\n",
      "28709/28709 [==============================] - 114s - loss: 1.6072 - acc: 0.3726 - val_loss: 1.4770 - val_acc: 0.4441\n",
      "Epoch 3/27\n",
      "28709/28709 [==============================] - 116s - loss: 1.5020 - acc: 0.4189 - val_loss: 1.4007 - val_acc: 0.4634\n",
      "Epoch 4/27\n",
      "28709/28709 [==============================] - 114s - loss: 1.4262 - acc: 0.4497 - val_loss: 1.3370 - val_acc: 0.4951\n",
      "Epoch 5/27\n",
      "28709/28709 [==============================] - 114s - loss: 1.3666 - acc: 0.4797 - val_loss: 1.2631 - val_acc: 0.5208\n",
      "Epoch 6/27\n",
      "28709/28709 [==============================] - 115s - loss: 1.3114 - acc: 0.4994 - val_loss: 1.2449 - val_acc: 0.5266\n",
      "Epoch 7/27\n",
      "28709/28709 [==============================] - 114s - loss: 1.2745 - acc: 0.5185 - val_loss: 1.2318 - val_acc: 0.5291\n",
      "Epoch 8/27\n",
      "28709/28709 [==============================] - 114s - loss: 1.2437 - acc: 0.5298 - val_loss: 1.1935 - val_acc: 0.5522\n",
      "Epoch 9/27\n",
      "28709/28709 [==============================] - 117s - loss: 1.2169 - acc: 0.5429 - val_loss: 1.1666 - val_acc: 0.5617\n",
      "Epoch 10/27\n",
      "28709/28709 [==============================] - 114s - loss: 1.1889 - acc: 0.5499 - val_loss: 1.1693 - val_acc: 0.5528\n",
      "Epoch 11/27\n",
      "28709/28709 [==============================] - 114s - loss: 1.1628 - acc: 0.5599 - val_loss: 1.1552 - val_acc: 0.5600\n",
      "Epoch 12/27\n",
      "28709/28709 [==============================] - 114s - loss: 1.1455 - acc: 0.5726 - val_loss: 1.1556 - val_acc: 0.5567\n",
      "Epoch 13/27\n",
      "28709/28709 [==============================] - 115s - loss: 1.1170 - acc: 0.5816 - val_loss: 1.1384 - val_acc: 0.5717\n",
      "Epoch 14/27\n",
      "28709/28709 [==============================] - 114s - loss: 1.0986 - acc: 0.5868 - val_loss: 1.1343 - val_acc: 0.5670\n",
      "Epoch 15/27\n",
      "28709/28709 [==============================] - 114s - loss: 1.0797 - acc: 0.5952 - val_loss: 1.1477 - val_acc: 0.5690\n",
      "Epoch 16/27\n",
      "28709/28709 [==============================] - 114s - loss: 1.0552 - acc: 0.6067 - val_loss: 1.1265 - val_acc: 0.5782\n",
      "Epoch 17/27\n",
      "28709/28709 [==============================] - 114s - loss: 1.0426 - acc: 0.6050 - val_loss: 1.1376 - val_acc: 0.5720\n",
      "Epoch 18/27\n",
      "28709/28709 [==============================] - 114s - loss: 1.0289 - acc: 0.6157 - val_loss: 1.1201 - val_acc: 0.5784\n",
      "Epoch 19/27\n",
      "28709/28709 [==============================] - 113s - loss: 1.0059 - acc: 0.6189 - val_loss: 1.1294 - val_acc: 0.5804\n",
      "Epoch 20/27\n",
      "28709/28709 [==============================] - 114s - loss: 0.9872 - acc: 0.6287 - val_loss: 1.1208 - val_acc: 0.5779\n",
      "Epoch 21/27\n",
      "28709/28709 [==============================] - 115s - loss: 0.9763 - acc: 0.6327 - val_loss: 1.1160 - val_acc: 0.5832\n",
      "Epoch 22/27\n",
      "28709/28709 [==============================] - 113s - loss: 0.9529 - acc: 0.6423 - val_loss: 1.1197 - val_acc: 0.5862\n",
      "Epoch 23/27\n",
      "28709/28709 [==============================] - 115s - loss: 0.9376 - acc: 0.6458 - val_loss: 1.1251 - val_acc: 0.5779\n",
      "Epoch 24/27\n",
      "28709/28709 [==============================] - 115s - loss: 0.9299 - acc: 0.6468 - val_loss: 1.1217 - val_acc: 0.5893\n",
      "Epoch 25/27\n",
      "28709/28709 [==============================] - 114s - loss: 0.9090 - acc: 0.6600 - val_loss: 1.1378 - val_acc: 0.5904\n",
      "Epoch 26/27\n",
      "28709/28709 [==============================] - 131s - loss: 0.8976 - acc: 0.6608 - val_loss: 1.1212 - val_acc: 0.5860\n",
      "Epoch 27/27\n",
      "28709/28709 [==============================] - 113s - loss: 0.8852 - acc: 0.6685 - val_loss: 1.1408 - val_acc: 0.5874\n"
     ]
    }
   ],
   "source": [
    "X,y = load_data(mode=0)\n",
    "X_validation, y_validation = load_data(mode=1)\n",
    "hist = model.fit(X, y, shuffle=True, epochs=EPOCHS, batch_size=BATCH_SIZE,\n",
    "                 callbacks=model_callbacks, verbose=1,\n",
    "                 validation_data=(X_validation, y_validation))"
   ]
  },
  {
   "cell_type": "code",
   "execution_count": 7,
   "metadata": {},
   "outputs": [
    {
     "data": {
      "image/png": "[encoded data removed]",
      "text/plain": [
       "<matplotlib.figure.Figure at 0x14a31ba5e828>"
      ]
     },
     "metadata": {},
     "output_type": "display_data"
    }
   ],
   "source": [
    "plt.figure(figsize=(14, 3))\n",
    "plt.subplot(1, 2, 1)\n",
    "plt.suptitle('Optimizer : Adam', fontsize=10)\n",
    "plt.ylabel('Loss', fontsize=16)\n",
    "plt.plot(hist.history['loss'], 'b', label='Training Loss')\n",
    "plt.plot(hist.history['val_loss'], 'r', label='Validation Loss')\n",
    "plt.legend(loc='upper right')\n",
    "\n",
    "plt.subplot(1, 2, 2)\n",
    "plt.ylabel('Accuracy', fontsize=16)\n",
    "plt.plot(hist.history['acc'], 'b', label='Training Accuracy')\n",
    "plt.plot(hist.history['val_acc'], 'r', label='Validation Accuracy')\n",
    "plt.legend(loc='lower right')\n",
    "plt.show()"
   ]
  },
  {
   "cell_type": "code",
   "execution_count": 8,
   "metadata": {},
   "outputs": [
    {
     "name": "stdout",
     "output_type": "stream",
     "text": [
      "(3589, 48, 48, 1)\n",
      "3584/3589 [============================>.] - ETA: 0sScore :  1.10818617833\n",
      "Accuracy :  58.8186124285\n"
     ]
    }
   ],
   "source": [
    "x_eval, y_eval = load_data(mode=2)\n",
    "\n",
    "score = model.evaluate(x_eval, y_eval, verbose=1)\n",
    "print('Score : ', score[0])\n",
    "print('Accuracy : ', score[1] * 100)\n",
    "model.save_weights('models/{0}.h5'.format(CHECKPOINT_NAME))"
   ]
  },
  {
   "cell_type": "code",
   "execution_count": 9,
   "metadata": {},
   "outputs": [
    {
     "name": "stdout",
     "output_type": "stream",
     "text": [
      "(3589, 48, 48, 1)\n",
      "3584/3589 [============================>.] - ETA: 0sScore :  1.09172889176\n",
      "Accuracy :  59.9052660942\n"
     ]
    }
   ],
   "source": [
    "x_eval, y_eval = load_data(mode=2)\n",
    "model.load_weights('checkpoints/{0}.h5'.format(CHECKPOINT_NAME))\n",
    "\n",
    "score = model.evaluate(x_eval, y_eval, verbose=1)\n",
    "print('Score : ', score[0])\n",
    "print('Accuracy : ', score[1] * 100)"
   ]
  }
 ],
 "metadata": {
  "kernelspec": {
   "display_name": "Python 3 (Intel, 2018 update 1)",
   "language": "python",
   "name": "intel_distribution_of_python_3_2018u1"
  },
  "language_info": {
   "codemirror_mode": {
    "name": "ipython",
    "version": 3
   },
   "file_extension": ".py",
   "mimetype": "text/x-python",
   "name": "python",
   "nbconvert_exporter": "python",
   "pygments_lexer": "ipython3",
   "version": "3.6.3"
  }
 },
 "nbformat": 4,
 "nbformat_minor": 2
}
