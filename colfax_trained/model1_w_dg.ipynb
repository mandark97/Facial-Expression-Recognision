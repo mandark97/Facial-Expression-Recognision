{
 "cells": [
  {
   "cell_type": "code",
   "execution_count": 23,
   "metadata": {},
   "outputs": [],
   "source": [
    "import cv2\n",
    "import numpy as np\n",
    "import pandas as pd\n",
    "from matplotlib import pyplot as plt\n",
    "from tensorflow.python.keras._impl.keras.layers import Input\n",
    "from tensorflow.python.keras.callbacks import EarlyStopping, ModelCheckpoint, TensorBoard\n",
    "from tensorflow.python.keras.layers import (Activation, Conv2D, Dense, Dropout, Flatten,\n",
    "                                            MaxPool2D)\n",
    "from tensorflow.python.keras.models import Sequential\n",
    "from tensorflow.python.keras.utils import to_categorical\n",
    "from tensorflow.python.keras.optimizers import Adam\n",
    "from tensorflow.python.keras.preprocessing.image import ImageDataGenerator\n",
    "%matplotlib inline\n",
    "import datetime"
   ]
  },
  {
   "cell_type": "code",
   "execution_count": 24,
   "metadata": {},
   "outputs": [
    {
     "name": "stdout",
     "output_type": "stream",
     "text": [
      "checkpoint_2018-03-21_08:36:06.393196\n"
     ]
    }
   ],
   "source": [
    "BATCH_SIZE = 256\n",
    "EPOCHS = 27\n",
    "PATIENCE = 50\n",
    "LEARNING_RATE = 0.001\n",
    "now = str(datetime.datetime.now())\n",
    "CHECKPOINT_NAME = '_'.join(('checkpoint ' + now).split(' '))\n",
    "print(CHECKPOINT_NAME)\n"
   ]
  },
  {
   "cell_type": "markdown",
   "metadata": {},
   "source": [
    "Read data and add it to a csv"
   ]
  },
  {
   "cell_type": "code",
   "execution_count": 25,
   "metadata": {},
   "outputs": [],
   "source": [
    "def load_data(test=False, mode=0, rgb=False):\n",
    "    files = ['fer2013/training.csv',\n",
    "             'fer2013/publictest.csv',\n",
    "             'fer2013/privatetest.csv']\n",
    "    \n",
    "    data = pd.read_csv(files[mode])\n",
    "    \n",
    "    data['pixels'] = data['pixels'].apply(lambda img: np.fromstring(img, sep=' '))\n",
    "    X = np.vstack(data['pixels'].values)\n",
    "    # #normalize data\n",
    "    X -= np.mean(X, axis=0)\n",
    "    X /= np.std(X, axis=0)\n",
    "    if rgb: # transform data cu rgb if needed\n",
    "        X = cv2.cvtColor(data['pixels'], cv2.COLOR_GRAY2RGB)\n",
    "        X = X.reshape(-1, 48, 48, 3)\n",
    "    else:\n",
    "        X = X.reshape(-1, 48, 48, 1)\n",
    "\n",
    "    print(X.shape)\n",
    "    \n",
    "    if not test:\n",
    "        y = data['emotion'].values\n",
    "        y = y.astype(np.int)\n",
    "        y = to_categorical(y)\n",
    "    else:\n",
    "        y = None\n",
    "\n",
    "    return X, y\n"
   ]
  },
  {
   "cell_type": "code",
   "execution_count": 26,
   "metadata": {},
   "outputs": [],
   "source": [
    "checkpointer = ModelCheckpoint(filepath='checkpoints/{0}.h5'.format(CHECKPOINT_NAME), verbose=0, save_best_only=True)\n",
    "early_stop = EarlyStopping(monitor='val_loss', min_delta=0, patience=PATIENCE, verbose=0, mode='auto')\n",
    "tensorboard = TensorBoard(log_dir='./logs', histogram_freq=0, batch_size=BATCH_SIZE, write_images=True)\n",
    "\n",
    "model_callbacks = [checkpointer, early_stop, tensorboard]"
   ]
  },
  {
   "cell_type": "code",
   "execution_count": 27,
   "metadata": {},
   "outputs": [
    {
     "name": "stdout",
     "output_type": "stream",
     "text": [
      "_________________________________________________________________\n",
      "Layer (type)                 Output Shape              Param #   \n",
      "=================================================================\n",
      "conv2d_19 (Conv2D)           (None, 46, 46, 64)        640       \n",
      "_________________________________________________________________\n",
      "conv2d_20 (Conv2D)           (None, 44, 44, 64)        36928     \n",
      "_________________________________________________________________\n",
      "conv2d_21 (Conv2D)           (None, 42, 42, 64)        36928     \n",
      "_________________________________________________________________\n",
      "max_pooling2d_7 (MaxPooling2 (None, 21, 21, 64)        0         \n",
      "_________________________________________________________________\n",
      "conv2d_22 (Conv2D)           (None, 19, 19, 32)        18464     \n",
      "_________________________________________________________________\n",
      "conv2d_23 (Conv2D)           (None, 17, 17, 32)        9248      \n",
      "_________________________________________________________________\n",
      "conv2d_24 (Conv2D)           (None, 15, 15, 32)        9248      \n",
      "_________________________________________________________________\n",
      "max_pooling2d_8 (MaxPooling2 (None, 7, 7, 32)          0         \n",
      "_________________________________________________________________\n",
      "dropout_7 (Dropout)          (None, 7, 7, 32)          0         \n",
      "_________________________________________________________________\n",
      "flatten_4 (Flatten)          (None, 1568)              0         \n",
      "_________________________________________________________________\n",
      "dense_10 (Dense)             (None, 128)               200832    \n",
      "_________________________________________________________________\n",
      "dense_11 (Dense)             (None, 64)                8256      \n",
      "_________________________________________________________________\n",
      "dropout_8 (Dropout)          (None, 64)                0         \n",
      "_________________________________________________________________\n",
      "dense_12 (Dense)             (None, 7)                 455       \n",
      "_________________________________________________________________\n",
      "activation_4 (Activation)    (None, 7)                 0         \n",
      "=================================================================\n",
      "Total params: 320,999\n",
      "Trainable params: 320,999\n",
      "Non-trainable params: 0\n",
      "_________________________________________________________________\n"
     ]
    }
   ],
   "source": [
    "model = Sequential()\n",
    "model.add(Conv2D(64, 3, input_shape=(48, 48, 1), activation='relu'))\n",
    "model.add(Conv2D(64, 3, activation='relu'))\n",
    "model.add(Conv2D(64, 3, activation='relu'))\n",
    "model.add(MaxPool2D(pool_size=(2, 2)))\n",
    "\n",
    "model.add(Conv2D(32, 3, activation='relu'))\n",
    "model.add(Conv2D(32, 3, activation='relu'))\n",
    "model.add(Conv2D(32, 3, activation='relu'))\n",
    "model.add(MaxPool2D(pool_size=(2, 2)))\n",
    "model.add(Dropout(0.5))\n",
    "\n",
    "model.add(Flatten())\n",
    "model.add(Dense(128, activation='relu'))\n",
    "model.add(Dense(64, activation='relu'))\n",
    "model.add(Dropout(0.5))\n",
    "\n",
    "model.add(Dense(7))\n",
    "model.add(Activation('softmax'))\n",
    "\n",
    "model.summary()\n",
    "\n",
    "optimizer = Adam(lr=0.01)\n",
    "\n",
    "model.compile(optimizer='adam', loss='categorical_crossentropy', metrics=['accuracy'])\n"
   ]
  },
  {
   "cell_type": "code",
   "execution_count": 28,
   "metadata": {},
   "outputs": [],
   "source": [
    "datagen = ImageDataGenerator(horizontal_flip=True,\n",
    "                             rotation_range=20,\n",
    "                             featurewise_center=True,\n",
    "                             featurewise_std_normalization=True)"
   ]
  },
  {
   "cell_type": "code",
   "execution_count": 29,
   "metadata": {},
   "outputs": [
    {
     "name": "stdout",
     "output_type": "stream",
     "text": [
      "(28709, 48, 48, 1)\n",
      "WARNING:tensorflow:Expected input to be images (as Numpy array) following the data format convention \"channels_last\" (channels on axis 3), i.e. expected either 1, 3 or 4 channels on axis 3. However, it was passed an array with shape (28709, 48, 48, 1) (1 channels).\n",
      "(3589, 48, 48, 1)\n",
      "Epoch 1/27\n",
      "112/112 [==============================] - 115s - loss: 1.8108 - acc: 0.2487 - val_loss: 1.6632 - val_acc: 0.3578\n",
      "Epoch 2/27\n",
      "112/112 [==============================] - 113s - loss: 1.6773 - acc: 0.3382 - val_loss: 1.5250 - val_acc: 0.4157\n",
      "Epoch 3/27\n",
      "112/112 [==============================] - 113s - loss: 1.5746 - acc: 0.3871 - val_loss: 1.4290 - val_acc: 0.4416\n",
      "Epoch 4/27\n",
      "112/112 [==============================] - 112s - loss: 1.4893 - acc: 0.4210 - val_loss: 1.3693 - val_acc: 0.4845\n",
      "Epoch 5/27\n",
      "112/112 [==============================] - 113s - loss: 1.4409 - acc: 0.4437 - val_loss: 1.3233 - val_acc: 0.4943\n",
      "Epoch 6/27\n",
      "112/112 [==============================] - 113s - loss: 1.4014 - acc: 0.4647 - val_loss: 1.2839 - val_acc: 0.5118\n",
      "Epoch 7/27\n",
      "112/112 [==============================] - 114s - loss: 1.3716 - acc: 0.4723 - val_loss: 1.2724 - val_acc: 0.5149\n",
      "Epoch 8/27\n",
      "112/112 [==============================] - 113s - loss: 1.3539 - acc: 0.4846 - val_loss: 1.2442 - val_acc: 0.5283\n",
      "Epoch 9/27\n",
      "112/112 [==============================] - 114s - loss: 1.3257 - acc: 0.4940 - val_loss: 1.2361 - val_acc: 0.5291\n",
      "Epoch 10/27\n",
      "112/112 [==============================] - 113s - loss: 1.3021 - acc: 0.5065 - val_loss: 1.2279 - val_acc: 0.5249\n",
      "Epoch 11/27\n",
      "112/112 [==============================] - 113s - loss: 1.3038 - acc: 0.5077 - val_loss: 1.1917 - val_acc: 0.5458\n",
      "Epoch 12/27\n",
      "112/112 [==============================] - 113s - loss: 1.2734 - acc: 0.5151 - val_loss: 1.1768 - val_acc: 0.5503\n",
      "Epoch 13/27\n",
      "112/112 [==============================] - 114s - loss: 1.2687 - acc: 0.5221 - val_loss: 1.1801 - val_acc: 0.5478\n",
      "Epoch 14/27\n",
      "112/112 [==============================] - 114s - loss: 1.2497 - acc: 0.5284 - val_loss: 1.1739 - val_acc: 0.5556\n",
      "Epoch 15/27\n",
      "112/112 [==============================] - 113s - loss: 1.2320 - acc: 0.5311 - val_loss: 1.1528 - val_acc: 0.5587\n",
      "Epoch 16/27\n",
      "112/112 [==============================] - 112s - loss: 1.2291 - acc: 0.5344 - val_loss: 1.1482 - val_acc: 0.5598\n",
      "Epoch 17/27\n",
      "112/112 [==============================] - 113s - loss: 1.2130 - acc: 0.5399 - val_loss: 1.1368 - val_acc: 0.5631\n",
      "Epoch 18/27\n",
      "112/112 [==============================] - 114s - loss: 1.2033 - acc: 0.5451 - val_loss: 1.1368 - val_acc: 0.5715\n",
      "Epoch 19/27\n",
      "112/112 [==============================] - 114s - loss: 1.2095 - acc: 0.5404 - val_loss: 1.1403 - val_acc: 0.5745\n",
      "Epoch 20/27\n",
      "112/112 [==============================] - 114s - loss: 1.1985 - acc: 0.5491 - val_loss: 1.1270 - val_acc: 0.5734\n",
      "Epoch 21/27\n",
      "112/112 [==============================] - 112s - loss: 1.1828 - acc: 0.5537 - val_loss: 1.1257 - val_acc: 0.5687\n",
      "Epoch 22/27\n",
      "112/112 [==============================] - 114s - loss: 1.1829 - acc: 0.5509 - val_loss: 1.1232 - val_acc: 0.5768\n",
      "Epoch 23/27\n",
      "112/112 [==============================] - 112s - loss: 1.1714 - acc: 0.5577 - val_loss: 1.1190 - val_acc: 0.5701\n",
      "Epoch 24/27\n",
      "112/112 [==============================] - 112s - loss: 1.1719 - acc: 0.5575 - val_loss: 1.1207 - val_acc: 0.5756\n",
      "Epoch 25/27\n",
      "112/112 [==============================] - 113s - loss: 1.1644 - acc: 0.5610 - val_loss: 1.1023 - val_acc: 0.5809\n",
      "Epoch 26/27\n",
      "112/112 [==============================] - 113s - loss: 1.1632 - acc: 0.5593 - val_loss: 1.1168 - val_acc: 0.5782\n",
      "Epoch 27/27\n",
      "112/112 [==============================] - 115s - loss: 1.1531 - acc: 0.5633 - val_loss: 1.1197 - val_acc: 0.5770\n"
     ]
    }
   ],
   "source": [
    "X,y = load_data(mode=0)\n",
    "datagen.fit(X)\n",
    "X_validation, y_validation = load_data(mode=1)\n",
    "\n",
    "hist = model.fit_generator(datagen.flow(X, y, batch_size=BATCH_SIZE), epochs=EPOCHS,\n",
    "                           callbacks=model_callbacks, verbose=1,\n",
    "                           steps_per_epoch=int(len(X) / BATCH_SIZE),\n",
    "                           validation_data=(X_validation, y_validation))"
   ]
  },
  {
   "cell_type": "code",
   "execution_count": 30,
   "metadata": {},
   "outputs": [
    {
     "data": {
      "image/png": "[encoded data removed]",
      "text/plain": [
       "<matplotlib.figure.Figure at 0x14b37ebb72b0>"
      ]
     },
     "metadata": {},
     "output_type": "display_data"
    }
   ],
   "source": [
    "plt.figure(figsize=(14, 3))\n",
    "plt.subplot(1, 2, 1)\n",
    "plt.suptitle('Optimizer : Adam', fontsize=10)\n",
    "plt.ylabel('Loss', fontsize=16)\n",
    "plt.plot(hist.history['loss'], 'b', label='Training Loss')\n",
    "plt.plot(hist.history['val_loss'], 'r', label='Validation Loss')\n",
    "plt.legend(loc='upper right')\n",
    "\n",
    "plt.subplot(1, 2, 2)\n",
    "plt.ylabel('Accuracy', fontsize=16)\n",
    "plt.plot(hist.history['acc'], 'b', label='Training Accuracy')\n",
    "plt.plot(hist.history['val_acc'], 'r', label='Validation Accuracy')\n",
    "plt.legend(loc='lower right')\n",
    "plt.show()"
   ]
  },
  {
   "cell_type": "code",
   "execution_count": 31,
   "metadata": {},
   "outputs": [
    {
     "name": "stdout",
     "output_type": "stream",
     "text": [
      "(3589, 48, 48, 1)\n",
      "3584/3589 [============================>.] - ETA: 0sScore :  1.0679690942\n",
      "Accuracy :  58.7628866013\n"
     ]
    }
   ],
   "source": [
    "x_eval, y_eval = load_data(mode=2)\n",
    "\n",
    "score = model.evaluate(x_eval, y_eval, verbose=1)\n",
    "print('Score : ', score[0])\n",
    "print('Accuracy : ', score[1] * 100)\n",
    "model.save_weights('models/{0}.h5'.format(CHECKPOINT_NAME))"
   ]
  },
  {
   "cell_type": "code",
   "execution_count": 32,
   "metadata": {},
   "outputs": [
    {
     "name": "stdout",
     "output_type": "stream",
     "text": [
      "(3589, 48, 48, 1)\n",
      "3584/3589 [============================>.] - ETA: 0sScore :  1.07513256533\n",
      "Accuracy :  58.4285316277\n"
     ]
    }
   ],
   "source": [
    "x_eval, y_eval = load_data(mode=2)\n",
    "model.load_weights('checkpoints/{0}.h5'.format(CHECKPOINT_NAME))\n",
    "\n",
    "score = model.evaluate(x_eval, y_eval, verbose=1)\n",
    "print('Score : ', score[0])\n",
    "print('Accuracy : ', score[1] * 100)"
   ]
  }
 ],
 "metadata": {
  "kernelspec": {
   "display_name": "Python 3 (Intel, 2018 update 1)",
   "language": "python",
   "name": "intel_distribution_of_python_3_2018u1"
  },
  "language_info": {
   "codemirror_mode": {
    "name": "ipython",
    "version": 3
   },
   "file_extension": ".py",
   "mimetype": "text/x-python",
   "name": "python",
   "nbconvert_exporter": "python",
   "pygments_lexer": "ipython3",
   "version": "3.6.3"
  }
 },
 "nbformat": 4,
 "nbformat_minor": 2
}
