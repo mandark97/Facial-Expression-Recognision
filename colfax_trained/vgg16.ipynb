{
 "cells": [
  {
   "cell_type": "code",
   "execution_count": 9,
   "metadata": {},
   "outputs": [],
   "source": [
    "import datetime\n",
    "import cv2\n",
    "import numpy as np\n",
    "import pandas as pd\n",
    "from matplotlib import pyplot as plt\n",
    "from tensorflow.python.keras.models import Model\n",
    "from tensorflow.python.keras._impl.keras.layers import Input\n",
    "from tensorflow.python.keras.applications.vgg16 import VGG16\n",
    "from tensorflow.python.keras.callbacks import EarlyStopping, ModelCheckpoint, TensorBoard\n",
    "from tensorflow.python.keras.layers import (Dense, Flatten)\n",
    "from tensorflow.python.keras.optimizers import Adam\n",
    "from skimage.color import gray2rgb\n",
    "\n",
    "\n",
    "% matplotlib inline\n",
    "from tensorflow.python.keras.utils import to_categorical\n"
   ]
  },
  {
   "cell_type": "code",
   "execution_count": 10,
   "metadata": {},
   "outputs": [
    {
     "name": "stdout",
     "output_type": "stream",
     "text": [
      "checkpoint_2018-03-21_09:56:34.680821\n"
     ]
    }
   ],
   "source": [
    "BATCH_SIZE = 256\n",
    "EPOCHS = 27\n",
    "PATIENCE = 50\n",
    "LEARNING_RATE = 0.001\n",
    "now = str(datetime.datetime.now())\n",
    "CHECKPOINT_NAME = '_'.join(('checkpoint ' + now).split(' '))\n",
    "print(CHECKPOINT_NAME)\n"
   ]
  },
  {
   "cell_type": "markdown",
   "metadata": {},
   "source": [
    "Read data and add it to a csv"
   ]
  },
  {
   "cell_type": "code",
   "execution_count": 11,
   "metadata": {},
   "outputs": [],
   "source": [
    "def load_data(test=False, mode=0, rgb=False):\n",
    "    files = ['fer2013/training.csv',\n",
    "             'fer2013/publictest.csv',\n",
    "             'fer2013/privatetest.csv']\n",
    "\n",
    "    data = pd.read_csv(files[mode])\n",
    "\n",
    "    data['pixels'] = data['pixels'].apply(lambda img: np.fromstring(img, sep=' '))\n",
    "    X = np.vstack(data['pixels'].values)\n",
    "    # #normalize data\n",
    "    X -= np.mean(X, axis=0)\n",
    "    X /= np.std(X, axis=0)\n",
    "    if rgb:  # transform data cu rgb if needed\n",
    "        X = gray2rgb(X)\n",
    "        X = X.reshape(-1, 48, 48, 3)\n",
    "    else:\n",
    "        X = X.reshape(-1, 48, 48, 1)\n",
    "\n",
    "    print(X.shape)\n",
    "\n",
    "    if not test:\n",
    "        y = data['emotion'].values\n",
    "        y = y.astype(np.int)\n",
    "        y = to_categorical(y)\n",
    "    else:\n",
    "        y = None\n",
    "\n",
    "    return X, y\n"
   ]
  },
  {
   "cell_type": "code",
   "execution_count": 12,
   "metadata": {},
   "outputs": [],
   "source": [
    "checkpointer = ModelCheckpoint(filepath='checkpoints/{0}.h5'.format(CHECKPOINT_NAME), verbose=0, save_best_only=True)\n",
    "early_stop = EarlyStopping(monitor='val_loss', min_delta=0, patience=PATIENCE, verbose=0, mode='auto')\n",
    "tensorboard = TensorBoard(log_dir='./logs', histogram_freq=0, batch_size=BATCH_SIZE, write_images=True)\n",
    "\n",
    "model_callbacks = [checkpointer, early_stop, tensorboard]\n"
   ]
  },
  {
   "cell_type": "code",
   "execution_count": 13,
   "metadata": {},
   "outputs": [
    {
     "name": "stdout",
     "output_type": "stream",
     "text": [
      "_________________________________________________________________\n",
      "Layer (type)                 Output Shape              Param #   \n",
      "=================================================================\n",
      "image_input (InputLayer)     (None, 48, 48, 3)         0         \n",
      "_________________________________________________________________\n",
      "vgg16 (Model)                multiple                  14714688  \n",
      "_________________________________________________________________\n",
      "flatten (Flatten)            (None, 512)               0         \n",
      "_________________________________________________________________\n",
      "fc1 (Dense)                  (None, 4096)              2101248   \n",
      "_________________________________________________________________\n",
      "fc2 (Dense)                  (None, 4096)              16781312  \n",
      "_________________________________________________________________\n",
      "predictions (Dense)          (None, 7)                 28679     \n",
      "=================================================================\n",
      "Total params: 33,625,927\n",
      "Trainable params: 33,625,927\n",
      "Non-trainable params: 0\n",
      "_________________________________________________________________\n"
     ]
    }
   ],
   "source": [
    "model_vgg16_conv = VGG16(include_top=False)\n",
    "\n",
    "input = Input(shape=(48, 48, 3), name='image_input')\n",
    "\n",
    "# Use the generated model\n",
    "output_vgg16_conv = model_vgg16_conv(input)\n",
    "\n",
    "# Add the fully-connected layers\n",
    "x = Flatten(name='flatten')(output_vgg16_conv)\n",
    "x = Dense(4096, activation='relu', name='fc1')(x)\n",
    "x = Dense(4096, activation='relu', name='fc2')(x)\n",
    "x = Dense(7, activation='softmax', name='predictions')(x)\n",
    "\n",
    "# Create your own model\n",
    "model = Model(inputs=input, outputs=x)\n",
    "model.summary()\n",
    "\n",
    "optimizer = Adam(lr=0.0001, decay=0.00001)\n",
    "\n",
    "model.compile(optimizer=optimizer, loss='categorical_crossentropy', metrics=['accuracy'])\n"
   ]
  },
  {
   "cell_type": "code",
   "execution_count": 14,
   "metadata": {},
   "outputs": [
    {
     "name": "stdout",
     "output_type": "stream",
     "text": [
      "(28709, 48, 48, 3)\n",
      "(3589, 48, 48, 3)\n",
      "Train on 28709 samples, validate on 3589 samples\n",
      "Epoch 1/27\n",
      "28709/28709 [==============================] - 457s - loss: 1.4399 - acc: 0.4418 - val_loss: 1.2750 - val_acc: 0.5107\n",
      "Epoch 2/27\n",
      "28709/28709 [==============================] - 458s - loss: 1.1397 - acc: 0.5673 - val_loss: 1.1099 - val_acc: 0.5715\n",
      "Epoch 3/27\n",
      "28709/28709 [==============================] - 644s - loss: 1.0070 - acc: 0.6233 - val_loss: 1.0522 - val_acc: 0.6149\n",
      "Epoch 4/27\n",
      "28709/28709 [==============================] - 801s - loss: 0.8880 - acc: 0.6695 - val_loss: 1.0777 - val_acc: 0.6102\n",
      "Epoch 5/27\n",
      "28709/28709 [==============================] - 779s - loss: 0.7576 - acc: 0.7235 - val_loss: 1.0873 - val_acc: 0.6119\n",
      "Epoch 6/27\n",
      "28709/28709 [==============================] - 453s - loss: 0.6228 - acc: 0.7751 - val_loss: 1.2295 - val_acc: 0.5904\n",
      "Epoch 7/27\n",
      "28709/28709 [==============================] - 453s - loss: 0.4952 - acc: 0.8241 - val_loss: 1.2289 - val_acc: 0.6166\n",
      "Epoch 8/27\n",
      "28709/28709 [==============================] - 453s - loss: 0.3727 - acc: 0.8667 - val_loss: 1.3881 - val_acc: 0.6247\n",
      "Epoch 9/27\n",
      "28709/28709 [==============================] - 455s - loss: 0.2856 - acc: 0.8990 - val_loss: 1.6136 - val_acc: 0.6160\n",
      "Epoch 10/27\n",
      "28709/28709 [==============================] - 454s - loss: 0.2035 - acc: 0.9293 - val_loss: 1.6487 - val_acc: 0.6375\n",
      "Epoch 11/27\n",
      "28709/28709 [==============================] - 452s - loss: 0.1468 - acc: 0.9517 - val_loss: 1.7484 - val_acc: 0.6339\n",
      "Epoch 12/27\n",
      "28709/28709 [==============================] - 452s - loss: 0.1790 - acc: 0.9383 - val_loss: 1.8155 - val_acc: 0.6060\n",
      "Epoch 13/27\n",
      "28709/28709 [==============================] - 454s - loss: 0.1047 - acc: 0.9642 - val_loss: 1.9334 - val_acc: 0.6294\n",
      "Epoch 14/27\n",
      "28709/28709 [==============================] - 453s - loss: 0.0619 - acc: 0.9804 - val_loss: 1.9971 - val_acc: 0.6358\n",
      "Epoch 15/27\n",
      "28709/28709 [==============================] - 452s - loss: 0.0793 - acc: 0.9730 - val_loss: 1.9722 - val_acc: 0.6395\n",
      "Epoch 16/27\n",
      "28709/28709 [==============================] - 457s - loss: 0.0635 - acc: 0.9785 - val_loss: 2.0520 - val_acc: 0.6417\n",
      "Epoch 17/27\n",
      "28709/28709 [==============================] - 451s - loss: 0.0631 - acc: 0.9789 - val_loss: 2.2073 - val_acc: 0.6342\n",
      "Epoch 18/27\n",
      "28709/28709 [==============================] - 453s - loss: 0.0689 - acc: 0.9761 - val_loss: 2.1949 - val_acc: 0.6464\n",
      "Epoch 19/27\n",
      "28709/28709 [==============================] - 455s - loss: 0.0467 - acc: 0.9837 - val_loss: 2.2237 - val_acc: 0.6336\n",
      "Epoch 20/27\n",
      "28709/28709 [==============================] - 450s - loss: 0.0497 - acc: 0.9823 - val_loss: 2.1250 - val_acc: 0.6389\n",
      "Epoch 21/27\n",
      "28709/28709 [==============================] - 453s - loss: 0.0504 - acc: 0.9824 - val_loss: 2.3722 - val_acc: 0.6406\n",
      "Epoch 22/27\n",
      "28709/28709 [==============================] - 452s - loss: 0.0702 - acc: 0.9754 - val_loss: 2.1572 - val_acc: 0.6406\n",
      "Epoch 23/27\n",
      "28709/28709 [==============================] - 454s - loss: 0.0730 - acc: 0.9736 - val_loss: 2.1867 - val_acc: 0.6356\n",
      "Epoch 24/27\n",
      "28709/28709 [==============================] - 453s - loss: 0.0520 - acc: 0.9819 - val_loss: 2.2511 - val_acc: 0.6442\n",
      "Epoch 25/27\n",
      "28709/28709 [==============================] - 455s - loss: 0.0468 - acc: 0.9840 - val_loss: 2.1612 - val_acc: 0.6498\n",
      "Epoch 26/27\n",
      "28709/28709 [==============================] - 451s - loss: 0.0509 - acc: 0.9823 - val_loss: 2.1873 - val_acc: 0.6339\n",
      "Epoch 27/27\n",
      "28709/28709 [==============================] - 450s - loss: 0.0747 - acc: 0.9733 - val_loss: 1.9932 - val_acc: 0.6486\n"
     ]
    }
   ],
   "source": [
    "X, y = load_data(mode=0, rgb=True)\n",
    "X_validation, y_validation = load_data(mode=1, rgb=True)\n",
    "hist = model.fit(X, y, shuffle=True, epochs=EPOCHS, batch_size=BATCH_SIZE,\n",
    "                 callbacks=model_callbacks, verbose=1,\n",
    "                 validation_data=(X_validation, y_validation))\n"
   ]
  },
  {
   "cell_type": "code",
   "execution_count": 15,
   "metadata": {},
   "outputs": [
    {
     "data": {
      "image/png": "[encoded data removed]",
      "text/plain": [
       "<matplotlib.figure.Figure at 0x150b92164828>"
      ]
     },
     "metadata": {},
     "output_type": "display_data"
    }
   ],
   "source": [
    "plt.figure(figsize=(14, 3))\n",
    "plt.subplot(1, 2, 1)\n",
    "plt.suptitle('Optimizer : Adam', fontsize=10)\n",
    "plt.ylabel('Loss', fontsize=16)\n",
    "plt.plot(hist.history['loss'], 'b', label='Training Loss')\n",
    "plt.plot(hist.history['val_loss'], 'r', label='Validation Loss')\n",
    "plt.legend(loc='upper right')\n",
    "\n",
    "plt.subplot(1, 2, 2)\n",
    "plt.ylabel('Accuracy', fontsize=16)\n",
    "plt.plot(hist.history['acc'], 'b', label='Training Accuracy')\n",
    "plt.plot(hist.history['val_acc'], 'r', label='Validation Accuracy')\n",
    "plt.legend(loc='lower right')\n",
    "plt.show()\n"
   ]
  },
  {
   "cell_type": "code",
   "execution_count": 16,
   "metadata": {},
   "outputs": [
    {
     "name": "stdout",
     "output_type": "stream",
     "text": [
      "(3589, 48, 48, 3)\n",
      "3589/3589 [==============================] - 19s    \n",
      "Score :  1.94920190665\n",
      "Accuracy :  65.0877681822\n"
     ]
    }
   ],
   "source": [
    "x_eval, y_eval = load_data(mode=2, rgb=True)\n",
    "\n",
    "score = model.evaluate(x_eval, y_eval, verbose=1)\n",
    "print('Score : ', score[0])\n",
    "print('Accuracy : ', score[1] * 100)\n",
    "model.save_weights('models/{0}.h5'.format(CHECKPOINT_NAME))\n"
   ]
  },
  {
   "cell_type": "code",
   "execution_count": 17,
   "metadata": {},
   "outputs": [
    {
     "name": "stdout",
     "output_type": "stream",
     "text": [
      "3589/3589 [==============================] - 20s    \n",
      "Score :  1.00713410501\n",
      "Accuracy :  62.6636946258\n"
     ]
    }
   ],
   "source": [
    "model.load_weights('checkpoints/{0}.h5'.format(CHECKPOINT_NAME))\n",
    "\n",
    "score = model.evaluate(x_eval, y_eval, verbose=1)\n",
    "print('Score : ', score[0])\n",
    "print('Accuracy : ', score[1] * 100)\n"
   ]
  }
 ],
 "metadata": {
  "kernelspec": {
   "display_name": "Python 3",
   "language": "python",
   "name": "python3"
  },
  "language_info": {
   "codemirror_mode": {
    "name": "ipython",
    "version": 3
   },
   "file_extension": ".py",
   "mimetype": "text/x-python",
   "name": "python",
   "nbconvert_exporter": "python",
   "pygments_lexer": "ipython3",
   "version": "3.6.4"
  }
 },
 "nbformat": 4,
 "nbformat_minor": 2
}
