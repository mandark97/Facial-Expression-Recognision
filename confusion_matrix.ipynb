{
 "cells": [
  {
   "cell_type": "code",
   "execution_count": 12,
   "metadata": {
    "collapsed": true
   },
   "outputs": [],
   "source": [
    "import itertools\n",
    "\n",
    "import numpy as np\n",
    "import pandas as pd\n",
    "from keras.applications.vgg16 import VGG16\n",
    "from keras.layers import Dense, Flatten, Input\n",
    "from keras.models import Model, load_model\n",
    "from keras.optimizers import Adam\n",
    "from keras.utils import to_categorical, Sequence\n",
    "from matplotlib import pyplot as plt\n",
    "from skimage.color import gray2rgb\n",
    "from skimage.transform import resize\n",
    "from sklearn.metrics import confusion_matrix\n",
    "% matplotlib inline\n",
    "from keras_vggface import VGGFace\n",
    "\n"
   ]
  },
  {
   "cell_type": "code",
   "execution_count": 13,
   "metadata": {},
   "outputs": [],
   "source": [
    "class Restnet50Sequence(Sequence):\n",
    "    def __init__(self, x_set, y_set, batch_size=16):\n",
    "        self.x, self.y = x_set, y_set\n",
    "        self.batch_size = batch_size\n",
    "\n",
    "    def __len__(self):\n",
    "        return int(np.ceil(len(self.x) / float(self.batch_size)))\n",
    "\n",
    "    def __getitem__(self, idx):\n",
    "        batch_x = self.x[idx * self.batch_size:(idx + 1) * self.batch_size]\n",
    "        batch_y = self.y[idx * self.batch_size:(idx + 1) * self.batch_size]\n",
    "\n",
    "        return np.array([\n",
    "            resize(img, (200, 200))\n",
    "            for img in batch_x]), np.array(batch_y)"
   ]
  },
  {
   "cell_type": "code",
   "execution_count": 5,
   "metadata": {},
   "outputs": [],
   "source": [
    "CLASS_MODE = 0\n",
    "# EMOTIONS = ['Angry', 'Disgust', 'Fear', 'Happy', 'Sad', 'Surprise', 'Neutral']\n",
    "EMOTIONS = [ 'False', 'True']\n",
    "LEARNING_RATE = 0.0001\n",
    "DELTA = 0.00001"
   ]
  },
  {
   "cell_type": "code",
   "execution_count": 6,
   "metadata": {},
   "outputs": [],
   "source": [
    "def load(mode=0):\n",
    "    file = ['fer2013/training.csv',\n",
    "            'fer2013/publictest.csv',\n",
    "            'fer2013/privatetest.csv']\n",
    "    data = pd.read_csv(file[mode])\n",
    "\n",
    "    pixels = data['pixels'].apply(\n",
    "        lambda img: np.fromstring(img, sep=' '))\n",
    "\n",
    "    X = np.vstack(pixels.values)\n",
    "    X = X.astype('float32')\n",
    "\n",
    "    X /= 255\n",
    "\n",
    "    X = gray2rgb(X)\n",
    "    X = X.reshape(-1, 48, 48, 3)\n",
    "\n",
    "    y = data['emotion'].values\n",
    "    y = y.astype(np.int)\n",
    "\n",
    "    return X, y"
   ]
  },
  {
   "cell_type": "code",
   "execution_count": 7,
   "metadata": {},
   "outputs": [],
   "source": [
    "def class_func(value, good_class):\n",
    "    if value == good_class:\n",
    "        return 1\n",
    "    else:\n",
    "        return 0"
   ]
  },
  {
   "cell_type": "code",
   "execution_count": 8,
   "metadata": {},
   "outputs": [],
   "source": [
    "x_eval, y_eval = load(mode=2)\n",
    "vfunc = np.vectorize(class_func)\n",
    "y_eval = vfunc(y_eval, CLASS_MODE)\n",
    "y_eval = to_categorical(y_eval)\n",
    "test_generator = Restnet50Sequence(x_eval, y_eval, 16)"
   ]
  },
  {
   "cell_type": "code",
   "execution_count": 9,
   "metadata": {},
   "outputs": [],
   "source": [
    "def plot_confusion_matrix(cm, classes,\n",
    "                          normalize=False,\n",
    "                          title='Confusion matrix',\n",
    "                          cmap=plt.cm.Blues):\n",
    "    \"\"\"\n",
    "    This function prints and plots the confusion matrix.\n",
    "    Normalization can be applied by setting `normalize=True`.\n",
    "    \"\"\"\n",
    "    if normalize:\n",
    "        cm = cm.astype('float') / cm.sum(axis=1)[:, np.newaxis]\n",
    "        print(\"Normalized confusion matrix\")\n",
    "    else:\n",
    "        print('Confusion matrix, without normalization')\n",
    "\n",
    "    print(cm)\n",
    "\n",
    "    plt.imshow(cm, interpolation='nearest', cmap=cmap)\n",
    "    plt.title(title)\n",
    "    plt.colorbar()\n",
    "    tick_marks = np.arange(len(classes))\n",
    "    plt.xticks(tick_marks, classes, rotation=45)\n",
    "    plt.yticks(tick_marks, classes)\n",
    "\n",
    "    fmt = '.2f' if normalize else 'd'\n",
    "    thresh = cm.max() / 2.\n",
    "    for i, j in itertools.product(range(cm.shape[0]), range(cm.shape[1])):\n",
    "        plt.text(j, i, format(cm[i, j], fmt),\n",
    "                 horizontalalignment=\"center\",\n",
    "                 color=\"white\" if cm[i, j] > thresh else \"black\")\n",
    "\n",
    "    plt.tight_layout()\n",
    "    plt.ylabel('True label')\n",
    "    plt.xlabel('Predicted label')"
   ]
  },
  {
   "cell_type": "code",
   "execution_count": null,
   "metadata": {},
   "outputs": [],
   "source": [
    "model_vgg16_conv = VGG16(include_top=False)\n",
    "\n",
    "input = Input(shape=(48, 48, 3), name='image_input')\n",
    "\n",
    "output_vgg16_conv = model_vgg16_conv(input)\n",
    "\n",
    "x = Flatten(name='flatten')(output_vgg16_conv)\n",
    "x = Dense(4096, activation='relu', name='fc1')(x)\n",
    "x = Dense(4096, activation='relu', name='fc2')(x)\n",
    "x = Dense(2, activation='softmax', name='predictions')(x)\n",
    "\n",
    "model = Model(inputs=input, outputs=x)\n",
    "\n",
    "optimizer = Adam(lr=LEARNING_RATE, decay=DELTA)\n",
    "model.compile(optimizer=optimizer,\n",
    "              loss='categorical_crossentropy', metrics=['accuracy'])\n"
   ]
  },
  {
   "cell_type": "code",
   "execution_count": 14,
   "metadata": {},
   "outputs": [
    {
     "name": "stdout",
     "output_type": "stream",
     "text": [
      "<keras.engine.training.Model object at 0x7ff883cc4208>\n"
     ]
    }
   ],
   "source": [
    "\n",
    "vgg_model = VGGFace(model='resnet50', include_top=False,\n",
    "                    input_shape=(200, 200, 3))\n",
    "print(vgg_model)\n",
    "last_layer = vgg_model.get_layer('avg_pool').output\n",
    "x = Flatten(name='flatten')(last_layer)\n",
    "out = Dense(2, activation='softmax', name='classifier')(x)\n",
    "model = Model(vgg_model.input, out)\n",
    "\n",
    "optimizer = Adam(lr=LEARNING_RATE, decay=DELTA)\n",
    "model.compile(optimizer=optimizer,\n",
    "              loss='categorical_crossentropy', metrics=['accuracy'])"
   ]
  },
  {
   "cell_type": "code",
   "execution_count": 23,
   "metadata": {},
   "outputs": [
    {
     "name": "stderr",
     "output_type": "stream",
     "text": [
      "/home/mandark/.conda/envs/tf1.7/lib/python3.6/site-packages/skimage/transform/_warps.py:84: UserWarning: The default mode, 'constant', will be changed to 'reflect' in skimage 0.15.\n  warn(\"The default mode, 'constant', will be changed to 'reflect' in \"\n"
     ]
    },
    {
     "name": "stderr",
     "output_type": "stream",
     "text": [
      "/home/mandark/.conda/envs/tf1.7/lib/python3.6/site-packages/skimage/transform/_warps.py:84: UserWarning: The default mode, 'constant', will be changed to 'reflect' in skimage 0.15.\n  warn(\"The default mode, 'constant', will be changed to 'reflect' in \"\n"
     ]
    },
    {
     "name": "stdout",
     "output_type": "stream",
     "text": [
      "[0 0 0 ... 0 0 0]\nNormalized confusion matrix\n[[0.73466753 0.26533247]\n [0.87576375 0.12423625]]\n"
     ]
    },
    {
     "data": {
      "image/png": "[encoded data removed]",
      "text/plain": [
       "<matplotlib.figure.Figure at 0x7ff87d4d2128>"
      ]
     },
     "metadata": {},
     "output_type": "display_data"
    },
    {
     "name": "stdout",
     "output_type": "stream",
     "text": [
      "[[2276  822]\n [ 430   61]]\n"
     ]
    }
   ],
   "source": [
    "model.load_weights('binary_class_resnet_6/model.h5')\n",
    "# predictions = model.predict(x_eval)\n",
    "predictions = model.predict_generator(test_generator, use_multiprocessing=True)\n",
    "predicted_class = np.argmax(predictions, axis=1)\n",
    "true_class = np.argmax(y_eval, axis=1)\n",
    "cm = confusion_matrix(true_class, predicted_class)\n",
    "print(predicted_class)\n",
    "plot_confusion_matrix(cm, classes=EMOTIONS, normalize=True)\n",
    "plt.show()\n",
    "print(cm)\n"
   ]
  },
  {
   "cell_type": "code",
   "execution_count": 18,
   "metadata": {},
   "outputs": [
    {
     "name": "stdout",
     "output_type": "stream",
     "text": [
      "Normalized confusion matrix\n[[0.97901872 0.02098128]\n [0.95723014 0.04276986]]\n"
     ]
    },
    {
     "data": {
      "image/png": "[encoded data removed]",
      "text/plain": [
       "<matplotlib.figure.Figure at 0x7ff87ddb5550>"
      ]
     },
     "metadata": {},
     "output_type": "display_data"
    },
    {
     "name": "stdout",
     "output_type": "stream",
     "text": [
      "[[3033   65]\n [ 470   21]]\n"
     ]
    }
   ],
   "source": [
    ""
   ]
  }
 ],
 "metadata": {
  "kernelspec": {
   "display_name": "Python 2",
   "language": "python",
   "name": "python2"
  },
  "language_info": {
   "codemirror_mode": {
    "name": "ipython",
    "version": 2
   },
   "file_extension": ".py",
   "mimetype": "text/x-python",
   "name": "python",
   "nbconvert_exporter": "python",
   "pygments_lexer": "ipython2",
   "version": "2.7.6"
  }
 },
 "nbformat": 4,
 "nbformat_minor": 0
}
