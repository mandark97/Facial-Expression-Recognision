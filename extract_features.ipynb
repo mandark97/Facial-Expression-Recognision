{
 "cells": [
  {
   "cell_type": "code",
   "execution_count": 1,
   "metadata": {
    "collapsed": true
   },
   "outputs": [
    {
     "name": "stderr",
     "output_type": "stream",
     "text": [
      "/home/mandark/.conda/envs/tf1.7/lib/python3.6/site-packages/h5py/__init__.py:36: FutureWarning: Conversion of the second argument of issubdtype from `float` to `np.floating` is deprecated. In future, it will be treated as `np.float64 == np.dtype(float).type`.\n  from ._conv import register_converters as _register_converters\nUsing TensorFlow backend.\n"
     ]
    }
   ],
   "source": [
    "from __future__ import print_function\n",
    "\n",
    "import numpy as np\n",
    "import pandas as pd\n",
    "from keras.layers import Dense, Flatten\n",
    "from keras.models import Model\n",
    "from keras.utils import Sequence, to_categorical\n",
    "from keras_vggface.vggface import VGGFace\n",
    "from skimage.color import gray2rgb\n",
    "from skimage.transform import resize\n",
    "from sklearn.svm import SVC\n",
    "\n",
    "from load_data import LoadData\n"
   ]
  },
  {
   "cell_type": "code",
   "execution_count": 2,
   "metadata": {},
   "outputs": [],
   "source": [
    "class Restnet50Sequence(Sequence):\n",
    "    def __init__(self, x_set, y_set, batch_size=16):\n",
    "        self.x, self.y = x_set, y_set\n",
    "        self.batch_size = batch_size\n",
    "\n",
    "    def __len__(self):\n",
    "        return int(np.ceil(len(self.x) / float(self.batch_size)))\n",
    "\n",
    "    def __getitem__(self, idx):\n",
    "        batch_x = self.x[idx * self.batch_size:(idx + 1) * self.batch_size]\n",
    "        batch_y = self.y[idx * self.batch_size:(idx + 1) * self.batch_size]\n",
    "\n",
    "        return np.array([\n",
    "            resize(img, (200, 200))\n",
    "            for img in batch_x]), np.array(batch_y)\n"
   ]
  },
  {
   "cell_type": "code",
   "execution_count": 3,
   "metadata": {},
   "outputs": [],
   "source": [
    "def extract_features(model, layer_name, model_name, data, mode=0, data_generator=None):\n",
    "    if mode == 0:\n",
    "        model.load_weights('{0}/model.h5'.format(model_name))\n",
    "    elif mode == 1:\n",
    "        model.load_weights('{0}/checkpoint.h5'.format(model_name))\n",
    "\n",
    "    intermediate_layer_model = Model(inputs=model.input,\n",
    "                                     outputs=model.get_layer(layer_name).output)\n",
    "\n",
    "    if data_generator:\n",
    "        print(len(data_generator))\n",
    "        return intermediate_layer_model.predict_generator(data_generator, use_multiprocessing=True)\n",
    "    else:\n",
    "        return intermediate_layer_model.predict(data)"
   ]
  },
  {
   "cell_type": "code",
   "execution_count": 4,
   "metadata": {},
   "outputs": [],
   "source": [
    "\n",
    "\n",
    "X_train, y_train = LoadData(mode=0, rgb=True).load()\n",
    "X_test, y_test = LoadData(mode=2, rgb=True).load()\n",
    "\n",
    "\n",
    "def load(mode=0, resize_imgs=False):\n",
    "    file = ['fer2013/training.csv',\n",
    "            'fer2013/publictest.csv',\n",
    "            'fer2013/privatetest.csv']\n",
    "    data = pd.read_csv(file[mode])\n",
    "\n",
    "    pixels = data['pixels'].apply(\n",
    "        lambda img: np.fromstring(img, sep=' '))\n",
    "\n",
    "    X = np.vstack(pixels.values)\n",
    "    X = X.astype('float32')\n",
    "\n",
    "    X /= 255\n",
    "\n",
    "    X = gray2rgb(X)\n",
    "    X = X.reshape(-1, 48, 48, 3)\n",
    "\n",
    "    if resize_imgs:\n",
    "        X = np.array([resize(x, (200, 200)) for x in X])\n",
    "\n",
    "    y = data['emotion'].values\n",
    "    y = y.astype(np.int)\n",
    "    y = to_categorical(y)\n",
    "\n",
    "    return X, y"
   ]
  },
  {
   "cell_type": "code",
   "execution_count": 5,
   "metadata": {},
   "outputs": [],
   "source": [
    "\n",
    "def first_model():\n",
    "    vgg_model = VGGFace(include_top=False, input_shape=(48, 48, 3))\n",
    "    last_layer = vgg_model.get_layer('pool5').output\n",
    "    x = Flatten(name='flatten')(last_layer)\n",
    "    x = Dense(4096, activation='relu', name='fc6')(x)\n",
    "    x = Dense(4096, activation='relu', name='fc7')(x)\n",
    "    out = Dense(7, activation='softmax', name='fc8')(x)\n",
    "    model = Model(vgg_model.input, out)\n",
    "\n",
    "    features_train = extract_features(model, 'flatten', 'vggface_vgg16v2', X_train, mode=0)\n",
    "    features_test = extract_features(model, 'flatten', 'vggface_vgg16v2', X_test, mode=0)\n",
    "\n",
    "    return features_train, features_test"
   ]
  },
  {
   "cell_type": "code",
   "execution_count": 6,
   "metadata": {},
   "outputs": [],
   "source": [
    "\n",
    "def second_model():\n",
    "    vgg_model = VGGFace(model='resnet50', include_top=False,\n",
    "                        input_shape=(200, 200, 3))\n",
    "    last_layer = vgg_model.get_layer('avg_pool').output\n",
    "    x = Flatten(name='flatten')(last_layer)\n",
    "    out = Dense(7, activation='softmax', name='classifier')(x)\n",
    "    model = Model(vgg_model.input, out)\n",
    "\n",
    "    train_generator = Restnet50Sequence(X_train, y_train, 16)\n",
    "    test_generator = Restnet50Sequence(X_test, y_test, 16)\n",
    "\n",
    "    features_train = extract_features(model, 'flatten', 'vggface_restnet50v2', X_train, mode=0,\n",
    "                                      data_generator=train_generator)\n",
    "    features_test = extract_features(model, 'flatten', 'vggface_restnet50v2', X_test, mode=0,\n",
    "                                     data_generator=test_generator)\n",
    "\n",
    "    return features_train, features_test"
   ]
  },
  {
   "cell_type": "code",
   "execution_count": 7,
   "metadata": {},
   "outputs": [],
   "source": [
    "\n",
    "model1_train, model1_test = first_model()"
   ]
  },
  {
   "cell_type": "code",
   "execution_count": 8,
   "metadata": {},
   "outputs": [
    {
     "name": "stdout",
     "output_type": "stream",
     "text": [
      "1795\n"
     ]
    },
    {
     "name": "stderr",
     "output_type": "stream",
     "text": [
      "/home/mandark/.conda/envs/tf1.7/lib/python3.6/site-packages/skimage/transform/_warps.py:84: UserWarning: The default mode, 'constant', will be changed to 'reflect' in skimage 0.15.\n  warn(\"The default mode, 'constant', will be changed to 'reflect' in \"\n"
     ]
    },
    {
     "name": "stderr",
     "output_type": "stream",
     "text": [
      "/home/mandark/.conda/envs/tf1.7/lib/python3.6/site-packages/skimage/transform/_warps.py:84: UserWarning: The default mode, 'constant', will be changed to 'reflect' in skimage 0.15.\n  warn(\"The default mode, 'constant', will be changed to 'reflect' in \"\n"
     ]
    },
    {
     "name": "stdout",
     "output_type": "stream",
     "text": [
      "225\n"
     ]
    },
    {
     "name": "stderr",
     "output_type": "stream",
     "text": [
      "/home/mandark/.conda/envs/tf1.7/lib/python3.6/site-packages/skimage/transform/_warps.py:84: UserWarning: The default mode, 'constant', will be changed to 'reflect' in skimage 0.15.\n  warn(\"The default mode, 'constant', will be changed to 'reflect' in \"\n"
     ]
    }
   ],
   "source": [
    "model2_train, model2_test = second_model()\n"
   ]
  },
  {
   "cell_type": "code",
   "execution_count": 9,
   "metadata": {},
   "outputs": [
    {
     "name": "stdout",
     "output_type": "stream",
     "text": [
      "(28709, 512)\n(3589, 512)\n(28709, 2048)\n(3589, 2048)\nFalse\n"
     ]
    }
   ],
   "source": [
    "print(model1_train.shape)\n",
    "print(model1_test.shape)\n",
    "print(model2_train.shape)\n",
    "print(model2_test.shape)\n",
    "print(np.array_equal(model2_test, model2_train))"
   ]
  },
  {
   "cell_type": "code",
   "execution_count": 10,
   "metadata": {},
   "outputs": [
    {
     "name": "stdout",
     "output_type": "stream",
     "text": [
      "(3589, 512)\n(3589, 2048)\n"
     ]
    }
   ],
   "source": [
    "print(model1_test.shape)\n",
    "print(model2_test.shape)\n",
    "features_train = np.concatenate([model1_train, model2_train], axis=1)\n",
    "features_test = np.concatenate([model1_test, model2_test], axis=1)"
   ]
  },
  {
   "cell_type": "code",
   "execution_count": 11,
   "metadata": {},
   "outputs": [
    {
     "name": "stdout",
     "output_type": "stream",
     "text": [
      "[LibSVM]"
     ]
    },
    {
     "name": "stdout",
     "output_type": "stream",
     "text": [
      "0.7183059348007802\n"
     ]
    }
   ],
   "source": [
    "\n",
    "clf = SVC(decision_function_shape='ovo', verbose=1)\n",
    "# import pdb; pdb.set_trace()\n",
    "clf.fit(features_train, y_train)\n",
    "score = clf.score(features_test, y_test)\n",
    "print(score)\n"
   ]
  }
 ],
 "metadata": {
  "kernelspec": {
   "display_name": "Python 2",
   "language": "python",
   "name": "python2"
  },
  "language_info": {
   "codemirror_mode": {
    "name": "ipython",
    "version": 2
   },
   "file_extension": ".py",
   "mimetype": "text/x-python",
   "name": "python",
   "nbconvert_exporter": "python",
   "pygments_lexer": "ipython2",
   "version": "2.7.6"
  }
 },
 "nbformat": 4,
 "nbformat_minor": 0
}
